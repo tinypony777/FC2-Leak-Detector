{
 "cells": [
  {
   "cell_type": "markdown",
   "metadata": {},
   "source": "# FC2 Leak Detector on Google Colab\n"
  },
  {
   "cell_type": "code",
   "metadata": {},
   "source": [
    "!git clone https://github.com/FC2-Research-Club/FC2-Leak-Detector.git\n",
    "import os\n",
    "from google.colab import drive\n",
    "drive.mount('/content/drive')\n",
    "os.environ['FC2_BASE_CACHE_DIR'] = '/content/drive/MyDrive/fc2_data'\n",
    "%cd FC2-Leak-Detector\n",
    "!pip install -r requirements.txt"
   ]
  },
  {
   "cell_type": "code",
   "metadata": {},
   "source": ["!python run.py -h"]
  }
 ],
 "metadata": {
  "kernelspec": {
   "display_name": "Python 3",
   "language": "python",
   "name": "python3"
  },
  "language_info": {
   "name": "python",
   "pygments_lexer": "ipython3"
  }
 },
 "nbformat": 4,
 "nbformat_minor": 5
}
